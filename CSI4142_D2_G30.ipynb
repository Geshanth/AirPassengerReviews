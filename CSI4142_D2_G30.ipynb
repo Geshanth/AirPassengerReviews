{
  "cells": [
    {
      "cell_type": "markdown",
      "metadata": {
        "id": "view-in-github",
        "colab_type": "text"
      },
      "source": [
        "<a href=\"https://colab.research.google.com/github/Geshanth/AirPassengerReviews/blob/main/CSI4142_D2_G30.ipynb\" target=\"_parent\"><img src=\"https://colab.research.google.com/assets/colab-badge.svg\" alt=\"Open In Colab\"/></a>"
      ]
    },
    {
      "cell_type": "markdown",
      "metadata": {
        "id": "Pbcc9QS1tnBN"
      },
      "source": [
        "**CSI4142 Group 30**"
      ]
    },
    {
      "cell_type": "markdown",
      "source": [],
      "metadata": {
        "id": "FL8kiX0SQXlA"
      }
    },
    {
      "cell_type": "code",
      "source": [],
      "metadata": {
        "id": "EVNkfJxbQX_A"
      },
      "execution_count": null,
      "outputs": []
    },
    {
      "cell_type": "markdown",
      "metadata": {
        "id": "SzPkrQt9HYXf"
      },
      "source": [
        "**DATA STAGING**"
      ]
    },
    {
      "cell_type": "markdown",
      "metadata": {
        "id": "S8l7j6WOK96q"
      },
      "source": [
        "Connecting to our PostgreSQL database which runs locally! to run this notebook you must have PostgresSQL installed and also install the necessary libraries. If making the database connection is impossible, all the cells still work except where a connection is needed."
      ]
    },
    {
      "cell_type": "code",
      "execution_count": null,
      "metadata": {
        "id": "F0GAQxqnU8uC",
        "outputId": "fab92f26-b04c-498a-ed87-809db9cc96d3"
      },
      "outputs": [
        {
          "name": "stdout",
          "output_type": "stream",
          "text": [
            "The notebook is running\n"
          ]
        }
      ],
      "source": [
        "print(\"The notebook is running\")"
      ]
    },
    {
      "cell_type": "code",
      "execution_count": null,
      "metadata": {
        "id": "MAi7N9p-HYXi",
        "outputId": "7dda5c81-f96d-44ef-ac15-7ad997cb0b13"
      },
      "outputs": [
        {
          "name": "stdout",
          "output_type": "stream",
          "text": [
            "Requirement already satisfied: psycopg2-binary in c:\\users\\ruang\\anaconda3\\lib\\site-packages (2.9.9)\n"
          ]
        }
      ],
      "source": [
        "!pip install psycopg2-binary"
      ]
    },
    {
      "cell_type": "code",
      "execution_count": null,
      "metadata": {
        "colab": {
          "base_uri": "https://localhost:8080/"
        },
        "id": "uyAhsSWNVI1H",
        "outputId": "3eaa1642-bf21-43b9-f3fb-819f4c3b5781"
      },
      "outputs": [
        {
          "name": "stdout",
          "output_type": "stream",
          "text": [
            "Error connecting to the database: connection to server at \"localhost\" (::1), port 5433 failed: fe_sendauth: no password supplied\n",
            "\n"
          ]
        }
      ],
      "source": [
        "import psycopg2\n",
        "\n",
        "try:\n",
        "    connection = psycopg2.connect(\n",
        "        host=\"localhost\",  # or use 127.0.0.1\n",
        "        port=\"5433\",  # Make sure this matches your PostgreSQL configuration\n",
        "        database=\"csi4142\",  # Your database name\n",
        "        user=\"postgres\",  # Your database user\n",
        "        password=\"\"  # Use Your own database password\n",
        "    )\n",
        "    cursor = connection.cursor()  #cursor is the connection object\n",
        "    # If connection is successful, you can proceed to execute queries using connection.cursor()\n",
        "    print(\"Connection established successfully!\")\n",
        "except Exception as e:\n",
        "    print(\"Error connecting to the database:\", e)\n"
      ]
    },
    {
      "cell_type": "code",
      "execution_count": null,
      "metadata": {
        "id": "0Ngo3UtVbt1g"
      },
      "outputs": [],
      "source": [
        "import pandas as pd\n",
        "import numpy as np"
      ]
    },
    {
      "cell_type": "markdown",
      "metadata": {
        "id": "b_6l8VaqHYXk"
      },
      "source": [
        "**Loading the main Dataframe(base cube)**"
      ]
    },
    {
      "cell_type": "code",
      "execution_count": null,
      "metadata": {
        "id": "P42gkIfwnyzj"
      },
      "outputs": [],
      "source": [
        "#two main dataframe to implement some functionalities\n",
        "url= 'https://raw.githubusercontent.com/Sattar-A/CSI4142_G30/main/Datasets/Electric_Vehicle_Population_Data.csv'\n",
        "df = pd.read_csv(url)\n",
        "df_t =pd.read_csv(url)"
      ]
    },
    {
      "cell_type": "markdown",
      "metadata": {
        "id": "kDKCDkMtHYXl"
      },
      "source": [
        "**Transformation** (more at the end)"
      ]
    },
    {
      "cell_type": "code",
      "execution_count": null,
      "metadata": {
        "id": "885ywmIoHYXl",
        "outputId": "c8341314-989f-4a3c-a51b-59abd667edb7"
      },
      "outputs": [
        {
          "name": "stdout",
          "output_type": "stream",
          "text": [
            "The DataFrame has 150482 rows and 17 columns.\n"
          ]
        }
      ],
      "source": [
        "rows, columns = df_t.shape\n",
        "#removing rows with null values\n",
        "df_t.dropna(inplace=True)\n",
        "print(f\"The DataFrame has {rows} rows and {columns} columns.\")"
      ]
    },
    {
      "cell_type": "code",
      "execution_count": null,
      "metadata": {
        "id": "TuHaIu-MHYXm"
      },
      "outputs": [],
      "source": [
        "# Removing Duplicates\n",
        "df.drop_duplicates(inplace=True)"
      ]
    },
    {
      "cell_type": "code",
      "execution_count": null,
      "metadata": {
        "colab": {
          "base_uri": "https://localhost:8080/"
        },
        "id": "jcxdGnbjxnVl",
        "outputId": "e2767df4-a754-426d-c167-c9806a3bd000"
      },
      "outputs": [
        {
          "name": "stdout",
          "output_type": "stream",
          "text": [
            "VIN (1-10)                                            object\n",
            "County                                                object\n",
            "City                                                  object\n",
            "State                                                 object\n",
            "Postal Code                                          float64\n",
            "Model Year                                             int64\n",
            "Make                                                  object\n",
            "Model                                                 object\n",
            "Electric Vehicle Type                                 object\n",
            "Clean Alternative Fuel Vehicle (CAFV) Eligibility     object\n",
            "Electric Range                                         int64\n",
            "Base MSRP                                              int64\n",
            "Legislative District                                 float64\n",
            "DOL Vehicle ID                                         int64\n",
            "Vehicle Location                                      object\n",
            "Electric Utility                                      object\n",
            "2020 Census Tract                                    float64\n",
            "dtype: object\n"
          ]
        }
      ],
      "source": [
        "#The data type of each column\n",
        "print(df.dtypes)"
      ]
    },
    {
      "cell_type": "markdown",
      "metadata": {
        "id": "trTc4X4980UX"
      },
      "source": [
        "**CREATING DIMENSIONS AND FACT TABLE(Loading & Generating Surrogate Keys)**"
      ]
    },
    {
      "cell_type": "markdown",
      "metadata": {
        "id": "lD1gC7eUHYXm"
      },
      "source": [
        "VIN Dimension table"
      ]
    },
    {
      "cell_type": "code",
      "execution_count": null,
      "metadata": {
        "id": "efRkCJL6HYXn"
      },
      "outputs": [],
      "source": [
        "# Create the VIN Dimension table\n",
        "# tekes 1:30sec to run\n",
        "create_table_vin_dim = \"\"\"\n",
        "CREATE TABLE IF NOT EXISTS VIN_Dim (\n",
        "    VIN_Key SERIAL PRIMARY KEY,\n",
        "    VIN VARCHAR(17) UNIQUE\n",
        ")\n",
        "\"\"\"\n",
        "cursor.execute(create_table_vin_dim)\n",
        "connection.commit()\n",
        "\n",
        "# Prepare VIN DataFrame\n",
        "vin_df = df[['VIN (1-10)']].drop_duplicates().reset_index(drop=True)\n",
        "vin_df.rename(columns={'VIN (1-10)': 'VIN'}, inplace=True)\n",
        "\n",
        "# Insert VIN data into VIN_Dim\n",
        "insert_query_vin_dim = \"\"\"\n",
        "INSERT INTO VIN_Dim (VIN)\n",
        "VALUES (%s)\n",
        "ON CONFLICT (VIN) DO NOTHING\n",
        "\"\"\"\n",
        "\n",
        "for _, row in vin_df.iterrows():\n",
        "    try:\n",
        "        cursor.execute(insert_query_vin_dim, (row['VIN'],))\n",
        "    except Exception as e:\n",
        "        print(f\"Error inserting VIN {row['VIN']}: {e}\")\n",
        "        connection.rollback()\n",
        "\n",
        "connection.commit()\n"
      ]
    },
    {
      "cell_type": "markdown",
      "metadata": {
        "id": "MXiKI3ZsHYXn"
      },
      "source": [
        "Location Dimension table"
      ]
    },
    {
      "cell_type": "code",
      "execution_count": null,
      "metadata": {
        "id": "gFqed438HYXn"
      },
      "outputs": [],
      "source": [
        "# Create the Location Dimension table\n",
        "# tekes 1:30sec to run\n",
        "create_table_location_dim = \"\"\"\n",
        "CREATE TABLE IF NOT EXISTS Location_Dim (\n",
        "    Location_Key SERIAL PRIMARY KEY,\n",
        "    County VARCHAR(255),\n",
        "    City VARCHAR(255),\n",
        "    State CHAR(2),\n",
        "    Postal_Code VARCHAR(20),\n",
        "    Legislative_District VARCHAR(10),\n",
        "    Vehicle_Location VARCHAR(255),\n",
        "    Electric_Utility VARCHAR(255)\n",
        ")\n",
        "\"\"\"\n",
        "cursor.execute(create_table_location_dim)\n",
        "connection.commit()\n",
        "\n",
        "# Prepare the Location DataFrame\n",
        "location_df = df[['County', 'City', 'State', 'Postal Code', 'Legislative District', 'Vehicle Location', 'Electric Utility']].reset_index(drop=True)\n",
        "location_df.columns = [column.replace(' ', '_') for column in location_df.columns]\n",
        "\n",
        "# Insert data into Location_Dim\n",
        "insert_query_location_dim = \"\"\"\n",
        "INSERT INTO Location_Dim (County, City, State, Postal_Code, Legislative_District, Vehicle_Location, Electric_Utility)\n",
        "VALUES (%s, %s, %s, %s, %s, %s, %s)\n",
        "\"\"\"\n",
        "\n",
        "for _, row in location_df.iterrows():\n",
        "    try:\n",
        "        cursor.execute(insert_query_location_dim, (\n",
        "            row['County'], row['City'], row['State'], row['Postal_Code'],\n",
        "            row['Legislative_District'], row['Vehicle_Location'],\n",
        "            row['Electric_Utility']\n",
        "        ))\n",
        "    except Exception as e:\n",
        "        print(f\"Error inserting location data: {e}\")\n",
        "        connection.rollback()\n",
        "\n",
        "connection.commit()"
      ]
    },
    {
      "cell_type": "markdown",
      "metadata": {
        "id": "D6U9xlgJHYXo"
      },
      "source": [
        "Model Dimension table"
      ]
    },
    {
      "cell_type": "code",
      "execution_count": null,
      "metadata": {
        "id": "2eY-oL13HYXo"
      },
      "outputs": [],
      "source": [
        "# Create the Model Dimension table\n",
        "# tekes 1:30sec to run\n",
        "df['Model Year'] = df['Model Year'].astype(int) # Convert 'Model Year' to integer\n",
        "\n",
        "create_table_model_dim = \"\"\"\n",
        "CREATE TABLE IF NOT EXISTS Model_Dim (\n",
        "    Model_Key SERIAL PRIMARY KEY,\n",
        "    Make VARCHAR(255),\n",
        "    Model VARCHAR(255),\n",
        "    Model_Year INT\n",
        ")\n",
        "\"\"\"\n",
        "cursor.execute(create_table_model_dim)\n",
        "connection.commit()\n",
        "\n",
        "\n",
        "model_df = df[['Make', 'Model', 'Model Year']].reset_index(drop=True)\n",
        "model_df.columns = [column.replace(' ', '_') for column in model_df.columns]\n",
        "\n",
        "# Insert data into Model_Dim\n",
        "insert_query_model_dim = \"\"\"\n",
        "INSERT INTO Model_Dim (Make, Model, Model_Year)\n",
        "VALUES (%s, %s, %s)\n",
        "\"\"\"\n",
        "\n",
        "for _, row in model_df.iterrows():\n",
        "    try:\n",
        "        cursor.execute(insert_query_model_dim, (\n",
        "            row['Make'], row['Model'], row['Model_Year']\n",
        "        ))\n",
        "    except Exception as e:\n",
        "        print(f\"Error inserting model data: {e}\")\n",
        "        connection.rollback()\n",
        "\n",
        "connection.commit()"
      ]
    },
    {
      "cell_type": "markdown",
      "metadata": {
        "id": "8Cfm6FkKHYXo"
      },
      "source": [
        "Electric Vehicle Type Dimension table"
      ]
    },
    {
      "cell_type": "code",
      "execution_count": null,
      "metadata": {
        "id": "r7tnY2eeHYXp"
      },
      "outputs": [],
      "source": [
        "# Create the Electric Vehicle Type Dimension table\n",
        "# tekes 1:30sec to run\n",
        "\n",
        "df.rename(columns={\n",
        "    'Clean Alternative Fuel Vehicle (CAFV) Eligibility': 'CAFV_Eligibility'\n",
        "}, inplace=True)\n",
        "\n",
        "create_table_ev_type_dim = \"\"\"\n",
        "CREATE TABLE IF NOT EXISTS EV_Type_Dim (\n",
        "    Type_Key SERIAL PRIMARY KEY,\n",
        "    Electric_Vehicle_Type VARCHAR(50),\n",
        "    CAFV_Eligibility VARCHAR(255)\n",
        ")\n",
        "\"\"\"\n",
        "cursor.execute(create_table_ev_type_dim)\n",
        "connection.commit()\n",
        "\n",
        "# Prepare the Electric Vehicle Type DataFrame\n",
        "ev_type_df = df[['Electric Vehicle Type', 'CAFV_Eligibility']].reset_index(drop=True)\n",
        "ev_type_df.columns = [column.replace(' ', '_').replace('(', '').replace(')', '') for column in ev_type_df.columns]  # Remove spaces and parentheses\n",
        "\n",
        "# Insert data into EV_Type_Dim\n",
        "insert_query_ev_type_dim = \"\"\"\n",
        "INSERT INTO EV_Type_Dim (Electric_Vehicle_Type, CAFV_Eligibility)\n",
        "VALUES (%s, %s)\n",
        "\"\"\"\n",
        "\n",
        "for _, row in ev_type_df.iterrows():\n",
        "    try:\n",
        "        cursor.execute(insert_query_ev_type_dim, (\n",
        "            row['Electric_Vehicle_Type'], row['CAFV_Eligibility']\n",
        "        ))\n",
        "    except Exception as e:\n",
        "        print(f\"Error inserting EV type data: {e}\")\n",
        "        connection.rollback()\n",
        "\n",
        "connection.commit()\n"
      ]
    },
    {
      "cell_type": "markdown",
      "metadata": {
        "id": "ESiSyYiWHYXp"
      },
      "source": [
        "Fact Table and populating it"
      ]
    },
    {
      "cell_type": "code",
      "execution_count": null,
      "metadata": {
        "id": "ZDxnd2RhHYXp"
      },
      "outputs": [],
      "source": [
        "# Create the Vehicle_Facts table\n",
        "# tekes 1:30sec to run\n",
        "create_fact_table_sql = \"\"\"\n",
        "CREATE TABLE IF NOT EXISTS Vehicle_Facts (\n",
        "    FactID SERIAL PRIMARY KEY,\n",
        "    VIN_Key INT,\n",
        "    Location_Key INT,\n",
        "    Model_Key INT,\n",
        "    Type_Key INT,\n",
        "    Electric_Range INT,\n",
        "    Base_MSRP NUMERIC,\n",
        "    FOREIGN KEY (VIN_Key) REFERENCES VIN_Dim(VIN_Key),\n",
        "    FOREIGN KEY (Location_Key) REFERENCES Location_Dim(Location_Key),\n",
        "    FOREIGN KEY (Model_Key) REFERENCES Model_Dim(Model_Key),\n",
        "    FOREIGN KEY (Type_Key) REFERENCES EV_Type_Dim(Type_Key)\n",
        ");\n",
        "\"\"\"\n",
        "cursor.execute(create_fact_table_sql)\n",
        "connection.commit()\n",
        "\n",
        "#Here we used these function instead of join since this is faster! But using join is also possible\n",
        "def get_key_from_vin_dim(vin):\n",
        "    cursor.execute(\"SELECT VIN_Key FROM VIN_Dim WHERE VIN = %s\", (vin,))\n",
        "    result = cursor.fetchone()\n",
        "    return result[0] if result else None\n",
        "\n",
        "def get_key_from_location_dim(county, city, state):\n",
        "    cursor.execute(\"\"\"\n",
        "        SELECT Location_Key FROM Location_Dim WHERE County = %s AND City = %s AND State = %s\n",
        "    \"\"\", (county, city, state))\n",
        "    result = cursor.fetchone()\n",
        "    return result[0] if result else None\n",
        "\n",
        "def get_key_from_model_dim(make, model):\n",
        "    cursor.execute(\"SELECT Model_Key FROM Model_Dim WHERE Make = %s AND Model = %s\", (make, model))\n",
        "    result = cursor.fetchone()\n",
        "    return result[0] if result else None\n",
        "\n",
        "def get_key_from_ev_type_dim(ev_type):\n",
        "    cursor.execute(\"SELECT Type_Key FROM EV_Type_Dim WHERE Electric_Vehicle_Type = %s\", (ev_type,))\n",
        "    result = cursor.fetchone()\n",
        "    return result[0] if result else None\n",
        "\n",
        "\n",
        "\n",
        "insert_fact_query = \"\"\"\n",
        "INSERT INTO Vehicle_Facts (\n",
        "    VIN_Key, Location_Key, Model_Key, Type_Key, Electric_Range, Base_MSRP\n",
        ") VALUES (%s, %s, %s, %s, %s, %s)\n",
        "\"\"\"\n",
        "\n",
        "# Insert only the first 100 rows into the Vehicle_Facts table to test since the whole thing takes long\n",
        "counter = 0\n",
        "for _, row in df.iterrows():\n",
        "    if counter >= 100:\n",
        "        break  # Stop the loop after inserting 100 rows\n",
        "\n",
        "    try:\n",
        "        # Get the keys from the dimension tables using the provided functions\n",
        "        vin_key = get_key_from_vin_dim(row['VIN (1-10)'])\n",
        "        location_key = get_key_from_location_dim(row['County'], row['City'], row['State'])\n",
        "        model_key = get_key_from_model_dim(row['Make'], row['Model'])\n",
        "        type_key = get_key_from_ev_type_dim(row['Electric Vehicle Type'])\n",
        "\n",
        "        # If any key is None (not found), skip the insert for this row\n",
        "        if None in (vin_key, location_key, model_key, type_key):\n",
        "            continue\n",
        "\n",
        "        # Execute the insert query\n",
        "        cursor.execute(insert_fact_query, (\n",
        "            vin_key, location_key, model_key, type_key,\n",
        "            row['Electric Range'], row['Base MSRP']\n",
        "        ))\n",
        "\n",
        "        counter += 1  # Increment the counter after a successful insert\n",
        "    except Exception as e:\n",
        "        print(f\"Error inserting data on row {counter}: {e}\")\n",
        "        connection.rollback()  # Rollback the transaction so you can continue with other inserts\n",
        "\n",
        "connection.commit()\n",
        "\n"
      ]
    },
    {
      "cell_type": "markdown",
      "metadata": {
        "id": "TGoBa1gtHYXq"
      },
      "source": [
        "**TRANSFORMATION(CONTINUED)**"
      ]
    },
    {
      "cell_type": "markdown",
      "metadata": {
        "id": "6GVnuYHZHYXr"
      },
      "source": [
        "**Icebergs**"
      ]
    },
    {
      "cell_type": "code",
      "execution_count": null,
      "metadata": {
        "colab": {
          "base_uri": "https://localhost:8080/"
        },
        "id": "GJ-HH-LjK_-B",
        "outputId": "3fa2addb-dad8-4f63-87e5-59c2716082de"
      },
      "outputs": [
        {
          "name": "stdout",
          "output_type": "stream",
          "text": [
            "Cars sold only in Seattle:\n",
            "     VIN (1-10) County     City State  Postal Code  Model Year     Make  \\\n",
            "0   KM8K33AGXL   King  Seattle    WA      98103.0        2020  HYUNDAI   \n",
            "16  WA1VABGE4K   King  Seattle    WA      98112.0        2019     AUDI   \n",
            "17  1N4AZ0CP6F   King  Seattle    WA      98125.0        2015   NISSAN   \n",
            "23  2T3YL4DV5E   King  Seattle    WA      98108.0        2014   TOYOTA   \n",
            "33  1N4AZ0CP9F   King  Seattle    WA      98109.0        2015   NISSAN   \n",
            "\n",
            "     Model           Electric Vehicle Type  \\\n",
            "0     KONA  Battery Electric Vehicle (BEV)   \n",
            "16  E-TRON  Battery Electric Vehicle (BEV)   \n",
            "17    LEAF  Battery Electric Vehicle (BEV)   \n",
            "23    RAV4  Battery Electric Vehicle (BEV)   \n",
            "33    LEAF  Battery Electric Vehicle (BEV)   \n",
            "\n",
            "                           CAFV_Eligibility  Electric Range  Base MSRP  \\\n",
            "0   Clean Alternative Fuel Vehicle Eligible             258          0   \n",
            "16  Clean Alternative Fuel Vehicle Eligible             204          0   \n",
            "17  Clean Alternative Fuel Vehicle Eligible              84          0   \n",
            "23  Clean Alternative Fuel Vehicle Eligible             103          0   \n",
            "33  Clean Alternative Fuel Vehicle Eligible              84          0   \n",
            "\n",
            "    Legislative District  DOL Vehicle ID              Vehicle Location  \\\n",
            "0                   43.0       249675142  POINT (-122.34301 47.659185)   \n",
            "16                  43.0       475364046  POINT (-122.306935 47.62441)   \n",
            "17                  46.0       252522896  POINT (-122.296385 47.71558)   \n",
            "23                  11.0       183567149  POINT (-122.326965 47.55015)   \n",
            "33                  43.0       180279487  POINT (-122.34848 47.632405)   \n",
            "\n",
            "                                Electric Utility  2020 Census Tract  \n",
            "0   CITY OF SEATTLE - (WA)|CITY OF TACOMA - (WA)       5.303300e+10  \n",
            "16  CITY OF SEATTLE - (WA)|CITY OF TACOMA - (WA)       5.303301e+10  \n",
            "17  CITY OF SEATTLE - (WA)|CITY OF TACOMA - (WA)       5.303300e+10  \n",
            "23  CITY OF SEATTLE - (WA)|CITY OF TACOMA - (WA)       5.303301e+10  \n",
            "33  CITY OF SEATTLE - (WA)|CITY OF TACOMA - (WA)       5.303301e+10  \n",
            "\n",
            "Top 5 cities with most EVs:\n",
            " Seattle      25675\n",
            "Bellevue      7691\n",
            "Redmond       5502\n",
            "Vancouver     5310\n",
            "Bothell       4861\n",
            "Name: City, dtype: int64\n"
          ]
        }
      ],
      "source": [
        "# Cars sold only in Seattle\n",
        "seattle_cars = df[df['City'] == 'Seattle'].head(5)\n",
        "\n",
        "# Top 5 cities with most EVs\n",
        "top_5_ev_cities = df['City'].value_counts().head(5)\n",
        "\n",
        "\n",
        "# Display the results\n",
        "print(\"Cars sold only in Seattle:\\n\", seattle_cars)\n",
        "print(\"\\nTop 5 cities with most EVs:\\n\", top_5_ev_cities)"
      ]
    },
    {
      "cell_type": "markdown",
      "metadata": {
        "id": "JDq9nrUPHYXs"
      },
      "source": [
        "**data discretization**"
      ]
    },
    {
      "cell_type": "code",
      "execution_count": null,
      "metadata": {
        "colab": {
          "base_uri": "https://localhost:8080/"
        },
        "id": "sBru3Upe3-sO",
        "outputId": "7f8b5f55-e80f-432f-83db-f03cbd73c6c3"
      },
      "outputs": [
        {
          "name": "stdout",
          "output_type": "stream",
          "text": [
            "   VIN (1-10)    County      City State  Postal Code  Model Year     Make  \\\n",
            "0  KM8K33AGXL      King   Seattle    WA      98103.0        2020  HYUNDAI   \n",
            "1  1C4RJYB61N      King   Bothell    WA      98011.0        2022     JEEP   \n",
            "2  1C4RJYD61P    Yakima    Yakima    WA      98908.0        2023     JEEP   \n",
            "3  5YJ3E1EA7J      King  Kirkland    WA      98034.0        2018    TESLA   \n",
            "4  WBY7Z8C5XJ  Thurston   Olympia    WA      98501.0        2018      BMW   \n",
            "\n",
            "            Model                   Electric Vehicle Type  \\\n",
            "0            KONA          Battery Electric Vehicle (BEV)   \n",
            "1  GRAND CHEROKEE  Plug-in Hybrid Electric Vehicle (PHEV)   \n",
            "2  GRAND CHEROKEE  Plug-in Hybrid Electric Vehicle (PHEV)   \n",
            "3         MODEL 3          Battery Electric Vehicle (BEV)   \n",
            "4              I3  Plug-in Hybrid Electric Vehicle (PHEV)   \n",
            "\n",
            "                          CAFV_Eligibility Electric Range  Base MSRP  \\\n",
            "0  Clean Alternative Fuel Vehicle Eligible           High          0   \n",
            "1    Not eligible due to low battery range            Low          0   \n",
            "2    Not eligible due to low battery range            Low          0   \n",
            "3  Clean Alternative Fuel Vehicle Eligible           High          0   \n",
            "4  Clean Alternative Fuel Vehicle Eligible            Low          0   \n",
            "\n",
            "   Legislative District  DOL Vehicle ID                 Vehicle Location  \\\n",
            "0                  43.0       249675142     POINT (-122.34301 47.659185)   \n",
            "1                   1.0       233928502     POINT (-122.20578 47.762405)   \n",
            "2                  14.0       229675939  POINT (-120.6027202 46.5965625)   \n",
            "3                  45.0       104714466     POINT (-122.209285 47.71124)   \n",
            "4                  22.0       185498386     POINT (-122.89692 47.043535)   \n",
            "\n",
            "                                Electric Utility  2020 Census Tract  \n",
            "0   CITY OF SEATTLE - (WA)|CITY OF TACOMA - (WA)       5.303300e+10  \n",
            "1  PUGET SOUND ENERGY INC||CITY OF TACOMA - (WA)       5.303302e+10  \n",
            "2                                     PACIFICORP       5.307700e+10  \n",
            "3  PUGET SOUND ENERGY INC||CITY OF TACOMA - (WA)       5.303302e+10  \n",
            "4                         PUGET SOUND ENERGY INC       5.306701e+10  \n"
          ]
        }
      ],
      "source": [
        "#data discretization (i.e., converting continuous data into discrete data by grouping it into bins or categories),\n",
        "\n",
        "# Define bins for categorization\n",
        "bins = [0, 100, 200, 300, float('inf')]\n",
        "labels = ['Low', 'Medium', 'High', 'Very High']\n",
        "\n",
        "# Discretize the 'ElectricRange' column\n",
        "df['Electric Range'] = pd.cut(df['Electric Range'], bins=bins, labels=labels, include_lowest=True)\n",
        "\n",
        "# Display the first few rows to verify the new column\n",
        "print(df.head())"
      ]
    },
    {
      "cell_type": "markdown",
      "metadata": {
        "id": "b5KBccdqHYXs"
      },
      "source": [
        "**Feature engineering**"
      ]
    },
    {
      "cell_type": "code",
      "execution_count": null,
      "metadata": {
        "id": "mohgmk5z5IQd"
      },
      "outputs": [],
      "source": [
        "# Sample DataFrame column setup\n",
        "df = pd.DataFrame({\n",
        "    'ElectricRange': [258, 25, 215, 97, 266],\n",
        "    'BaseMSRP': [37000, 35000, 49000, 44000, 68000]\n",
        "})\n",
        "\n",
        "# Feature Engineering: Fuel Efficiency Category\n",
        "# Calculate range per dollar (ElectricRange/BaseMSRP)\n",
        "df['RangePerDollar'] = df['ElectricRange'] / df['BaseMSRP']\n",
        "\n",
        "# Define bins for categorization of RangePerDollar\n",
        "bins = [0, np.percentile(df['RangePerDollar'], 33), np.percentile(df['RangePerDollar'], 66), float('inf')]\n",
        "labels = ['Low Efficiency', 'Medium Efficiency', 'High Efficiency']\n",
        "\n",
        "# Categorize RangePerDollar into Efficiency Categories\n",
        "df['EfficiencyCategory'] = pd.cut(df['RangePerDollar'], bins=bins, labels=labels, include_lowest=True)"
      ]
    },
    {
      "cell_type": "markdown",
      "metadata": {
        "id": "qM5ZKkCVHYXt"
      },
      "source": [
        "**Creating special table(aggregate)**"
      ]
    },
    {
      "cell_type": "code",
      "execution_count": null,
      "metadata": {
        "colab": {
          "base_uri": "https://localhost:8080/",
          "height": 518
        },
        "id": "UZzDW5tRIUxU",
        "outputId": "a1991c9c-1237-4ffb-9ed1-a0a9f3b82f18"
      },
      "outputs": [
        {
          "data": {
            "text/html": [
              "<div>\n",
              "<style scoped>\n",
              "    .dataframe tbody tr th:only-of-type {\n",
              "        vertical-align: middle;\n",
              "    }\n",
              "\n",
              "    .dataframe tbody tr th {\n",
              "        vertical-align: top;\n",
              "    }\n",
              "\n",
              "    .dataframe thead th {\n",
              "        text-align: right;\n",
              "    }\n",
              "</style>\n",
              "<table border=\"1\" class=\"dataframe\">\n",
              "  <thead>\n",
              "    <tr style=\"text-align: right;\">\n",
              "      <th></th>\n",
              "      <th>VIN (1-10)</th>\n",
              "      <th>County</th>\n",
              "      <th>City</th>\n",
              "      <th>State</th>\n",
              "      <th>Postal Code</th>\n",
              "      <th>Model Year</th>\n",
              "      <th>Make</th>\n",
              "      <th>Model</th>\n",
              "      <th>Electric Vehicle Type</th>\n",
              "      <th>Clean Alternative Fuel Vehicle (CAFV) Eligibility</th>\n",
              "      <th>Electric Range</th>\n",
              "      <th>Base MSRP</th>\n",
              "      <th>Legislative District</th>\n",
              "      <th>DOL Vehicle ID</th>\n",
              "      <th>Vehicle Location</th>\n",
              "      <th>Electric Utility</th>\n",
              "      <th>2020 Census Tract</th>\n",
              "    </tr>\n",
              "  </thead>\n",
              "  <tbody>\n",
              "    <tr>\n",
              "      <th>3</th>\n",
              "      <td>5YJ3E1EA7J</td>\n",
              "      <td>King</td>\n",
              "      <td>Kirkland</td>\n",
              "      <td>WA</td>\n",
              "      <td>98034.0</td>\n",
              "      <td>2018</td>\n",
              "      <td>TESLA</td>\n",
              "      <td>MODEL 3</td>\n",
              "      <td>Battery Electric Vehicle (BEV)</td>\n",
              "      <td>Clean Alternative Fuel Vehicle Eligible</td>\n",
              "      <td>215</td>\n",
              "      <td>0</td>\n",
              "      <td>45.0</td>\n",
              "      <td>104714466</td>\n",
              "      <td>POINT (-122.209285 47.71124)</td>\n",
              "      <td>PUGET SOUND ENERGY INC||CITY OF TACOMA - (WA)</td>\n",
              "      <td>5.303302e+10</td>\n",
              "    </tr>\n",
              "    <tr>\n",
              "      <th>5</th>\n",
              "      <td>5YJ3E1EAXL</td>\n",
              "      <td>Snohomish</td>\n",
              "      <td>Marysville</td>\n",
              "      <td>WA</td>\n",
              "      <td>98271.0</td>\n",
              "      <td>2020</td>\n",
              "      <td>TESLA</td>\n",
              "      <td>MODEL 3</td>\n",
              "      <td>Battery Electric Vehicle (BEV)</td>\n",
              "      <td>Clean Alternative Fuel Vehicle Eligible</td>\n",
              "      <td>266</td>\n",
              "      <td>0</td>\n",
              "      <td>38.0</td>\n",
              "      <td>124595523</td>\n",
              "      <td>POINT (-122.1713847 48.10433)</td>\n",
              "      <td>PUGET SOUND ENERGY INC</td>\n",
              "      <td>5.306194e+10</td>\n",
              "    </tr>\n",
              "    <tr>\n",
              "      <th>7</th>\n",
              "      <td>5YJYGDEE3L</td>\n",
              "      <td>King</td>\n",
              "      <td>Woodinville</td>\n",
              "      <td>WA</td>\n",
              "      <td>98072.0</td>\n",
              "      <td>2020</td>\n",
              "      <td>TESLA</td>\n",
              "      <td>MODEL Y</td>\n",
              "      <td>Battery Electric Vehicle (BEV)</td>\n",
              "      <td>Clean Alternative Fuel Vehicle Eligible</td>\n",
              "      <td>291</td>\n",
              "      <td>0</td>\n",
              "      <td>45.0</td>\n",
              "      <td>124760555</td>\n",
              "      <td>POINT (-122.151665 47.75855)</td>\n",
              "      <td>PUGET SOUND ENERGY INC||CITY OF TACOMA - (WA)</td>\n",
              "      <td>5.303302e+10</td>\n",
              "    </tr>\n",
              "    <tr>\n",
              "      <th>8</th>\n",
              "      <td>5YJ3E1EA1J</td>\n",
              "      <td>Island</td>\n",
              "      <td>Coupeville</td>\n",
              "      <td>WA</td>\n",
              "      <td>98239.0</td>\n",
              "      <td>2018</td>\n",
              "      <td>TESLA</td>\n",
              "      <td>MODEL 3</td>\n",
              "      <td>Battery Electric Vehicle (BEV)</td>\n",
              "      <td>Clean Alternative Fuel Vehicle Eligible</td>\n",
              "      <td>215</td>\n",
              "      <td>0</td>\n",
              "      <td>10.0</td>\n",
              "      <td>125048003</td>\n",
              "      <td>POINT (-122.6880708 48.2179983)</td>\n",
              "      <td>PUGET SOUND ENERGY INC</td>\n",
              "      <td>5.302997e+10</td>\n",
              "    </tr>\n",
              "    <tr>\n",
              "      <th>9</th>\n",
              "      <td>7SAYGDEF0P</td>\n",
              "      <td>King</td>\n",
              "      <td>Bellevue</td>\n",
              "      <td>WA</td>\n",
              "      <td>98004.0</td>\n",
              "      <td>2023</td>\n",
              "      <td>TESLA</td>\n",
              "      <td>MODEL Y</td>\n",
              "      <td>Battery Electric Vehicle (BEV)</td>\n",
              "      <td>Eligibility unknown as battery range has not b...</td>\n",
              "      <td>0</td>\n",
              "      <td>0</td>\n",
              "      <td>48.0</td>\n",
              "      <td>240416207</td>\n",
              "      <td>POINT (-122.201905 47.61385)</td>\n",
              "      <td>PUGET SOUND ENERGY INC||CITY OF TACOMA - (WA)</td>\n",
              "      <td>5.303302e+10</td>\n",
              "    </tr>\n",
              "  </tbody>\n",
              "</table>\n",
              "</div>"
            ],
            "text/plain": [
              "   VIN (1-10)     County         City State  Postal Code  Model Year   Make  \\\n",
              "3  5YJ3E1EA7J       King     Kirkland    WA      98034.0        2018  TESLA   \n",
              "5  5YJ3E1EAXL  Snohomish   Marysville    WA      98271.0        2020  TESLA   \n",
              "7  5YJYGDEE3L       King  Woodinville    WA      98072.0        2020  TESLA   \n",
              "8  5YJ3E1EA1J     Island   Coupeville    WA      98239.0        2018  TESLA   \n",
              "9  7SAYGDEF0P       King     Bellevue    WA      98004.0        2023  TESLA   \n",
              "\n",
              "     Model           Electric Vehicle Type  \\\n",
              "3  MODEL 3  Battery Electric Vehicle (BEV)   \n",
              "5  MODEL 3  Battery Electric Vehicle (BEV)   \n",
              "7  MODEL Y  Battery Electric Vehicle (BEV)   \n",
              "8  MODEL 3  Battery Electric Vehicle (BEV)   \n",
              "9  MODEL Y  Battery Electric Vehicle (BEV)   \n",
              "\n",
              "   Clean Alternative Fuel Vehicle (CAFV) Eligibility  Electric Range  \\\n",
              "3            Clean Alternative Fuel Vehicle Eligible             215   \n",
              "5            Clean Alternative Fuel Vehicle Eligible             266   \n",
              "7            Clean Alternative Fuel Vehicle Eligible             291   \n",
              "8            Clean Alternative Fuel Vehicle Eligible             215   \n",
              "9  Eligibility unknown as battery range has not b...               0   \n",
              "\n",
              "   Base MSRP  Legislative District  DOL Vehicle ID  \\\n",
              "3          0                  45.0       104714466   \n",
              "5          0                  38.0       124595523   \n",
              "7          0                  45.0       124760555   \n",
              "8          0                  10.0       125048003   \n",
              "9          0                  48.0       240416207   \n",
              "\n",
              "                  Vehicle Location  \\\n",
              "3     POINT (-122.209285 47.71124)   \n",
              "5    POINT (-122.1713847 48.10433)   \n",
              "7     POINT (-122.151665 47.75855)   \n",
              "8  POINT (-122.6880708 48.2179983)   \n",
              "9     POINT (-122.201905 47.61385)   \n",
              "\n",
              "                                Electric Utility  2020 Census Tract  \n",
              "3  PUGET SOUND ENERGY INC||CITY OF TACOMA - (WA)       5.303302e+10  \n",
              "5                         PUGET SOUND ENERGY INC       5.306194e+10  \n",
              "7  PUGET SOUND ENERGY INC||CITY OF TACOMA - (WA)       5.303302e+10  \n",
              "8                         PUGET SOUND ENERGY INC       5.302997e+10  \n",
              "9  PUGET SOUND ENERGY INC||CITY OF TACOMA - (WA)       5.303302e+10  "
            ]
          },
          "execution_count": 180,
          "metadata": {},
          "output_type": "execute_result"
        }
      ],
      "source": [
        "# Filter the DataFrame for only Tesla vehicles\n",
        "tesla_df = df2[df2['Make'] == 'TESLA']\n",
        "tesla_df[0:5]"
      ]
    },
    {
      "cell_type": "code",
      "execution_count": null,
      "metadata": {
        "id": "5UCfr6IGO3X5"
      },
      "outputs": [],
      "source": [
        "create_table_query = \"\"\"\n",
        "CREATE TABLE IF NOT EXISTS tesla_vehicles (\n",
        "    VIN VARCHAR(20) PRIMARY KEY,\n",
        "    County VARCHAR(255),\n",
        "    City VARCHAR(255),\n",
        "    State VARCHAR(2),\n",
        "    PostalCode VARCHAR(10),\n",
        "    ModelYear INT,\n",
        "    Make VARCHAR(50),\n",
        "    Model VARCHAR(50),\n",
        "    ElectricVehicleType VARCHAR(50),\n",
        "    CAFVEligibility VARCHAR(255),\n",
        "    ElectricRange INT,\n",
        "    BaseMSRP INT,\n",
        "    LegislativeDistrict INT,\n",
        "    DOLVehicleID BIGINT,\n",
        "    VehicleLocation VARCHAR(255),\n",
        "    ElectricUtility VARCHAR(255),\n",
        "    CensusTract BIGINT\n",
        ")\n",
        "\"\"\"\n",
        "\n",
        "cursor.execute(create_table_query)\n",
        "connection.commit()"
      ]
    },
    {
      "cell_type": "code",
      "execution_count": null,
      "metadata": {
        "id": "LngJ2oS0HYXu"
      },
      "outputs": [],
      "source": [
        "#Inserting tesla vehicles table\n",
        "#Inserting tesla vehicles table\n",
        "insert_query = \"\"\"\n",
        "INSERT INTO tesla_vehicles (\n",
        "    VIN, County, City, State, PostalCode, ModelYear, Make, Model,\n",
        "    ElectricVehicleType, CAFVEligibility, ElectricRange, BaseMSRP,\n",
        "    LegislativeDistrict, DOLVehicleID, VehicleLocation, ElectricUtility, CensusTract\n",
        ") VALUES (%s, %s, %s, %s, %s, %s, %s, %s, %s, %s, %s, %s, %s, %s, %s, %s, %s)\n",
        "ON CONFLICT (VIN) DO NOTHING  -- Prevents duplicate entries\n",
        "\"\"\"\n",
        "\n",
        "for _, row in tesla_df.iterrows():\n",
        "    try:\n",
        "        # Removed the .year conversion since 'Model Year' is already an integer\n",
        "        cursor.execute(insert_query, (\n",
        "            row['VIN (1-10)'], row['County'], row['City'], row['State'], str(row['Postal Code']),\n",
        "            row['Model Year'],  # Assuming this is already an integer\n",
        "            row['Make'], row['Model'], row['Electric Vehicle Type'], row['Clean Alternative Fuel Vehicle (CAFV) Eligibility'],\n",
        "            row['Electric Range'], row['Base MSRP'], row['Legislative District'], row['DOL Vehicle ID'],\n",
        "            row['Vehicle Location'], row['Electric Utility'], row['2020 Census Tract']\n",
        "        ))\n",
        "    except Exception as e:\n",
        "        #print(\"Error inserting data:\", e)\n",
        "        connection.rollback()  # Rollback the transaction\n",
        "\n",
        "connection.commit()\n"
      ]
    },
    {
      "cell_type": "code",
      "execution_count": null,
      "metadata": {
        "id": "3NLDw9OpHYXu",
        "outputId": "13cc4c6a-1c2d-4841-e7c4-01f25d2ad1ff"
      },
      "outputs": [
        {
          "name": "stdout",
          "output_type": "stream",
          "text": [
            "('5YJSA1E21J', 'Kitsap', 'Port Orchard', 'WA', '98367.0', 1970, 'TESLA', 'MODEL S', 'Battery Electric Vehicle (BEV)', 'Clean Alternative Fuel Vehicle Eligible', 249, 0, 26, 220523628, 'POINT (-122.6851642 47.506453)', 'PUGET SOUND ENERGY INC', 53035092102)\n",
            "('5YJ3E1EA3K', 'Snohomish', 'Marysville', 'WA', '98270.0', 1970, 'TESLA', 'MODEL 3', 'Battery Electric Vehicle (BEV)', 'Clean Alternative Fuel Vehicle Eligible', 220, 0, 38, 478795530, 'POINT (-122.17673 48.05542)', 'PUGET SOUND ENERGY INC', 53061052906)\n",
            "('5YJXCDE47M', 'Island', 'Clinton', 'WA', '98236.0', 1970, 'TESLA', 'MODEL X', 'Battery Electric Vehicle (BEV)', 'Eligibility unknown as battery range has not been researched', 0, 0, 10, 137469244, 'POINT (-122.359364 47.9796552)', 'PUGET SOUND ENERGY INC', 53029972000)\n",
            "('7SAYGDEF0P', 'King', 'Renton', 'WA', '98058.0', 1970, 'TESLA', 'MODEL Y', 'Battery Electric Vehicle (BEV)', 'Eligibility unknown as battery range has not been researched', 0, 0, 5, 221555400, 'POINT (-122.1298876 47.4451257)', 'PUGET SOUND ENERGY INC||CITY OF TACOMA - (WA)', 53033031800)\n",
            "('5YJ3E1EB7L', 'Chelan', 'Wenatchee', 'WA', '98801.0', 1970, 'TESLA', 'MODEL 3', 'Battery Electric Vehicle (BEV)', 'Clean Alternative Fuel Vehicle Eligible', 322, 0, 12, 107015268, 'POINT (-120.32009 47.42255)', 'PUD NO 1 OF CHELAN COUNTY', 53007960700)\n"
          ]
        }
      ],
      "source": [
        "#Pulling from our databse\n",
        "cursor.execute(\"SELECT * FROM tesla_vehicles LIMIT 5\")\n",
        "for row in cursor.fetchall():\n",
        "    print(row)"
      ]
    },
    {
      "cell_type": "markdown",
      "metadata": {
        "id": "MMJa2khyHYXv"
      },
      "source": [
        "**Creating a table for top 5 cars range wise**"
      ]
    },
    {
      "cell_type": "code",
      "execution_count": null,
      "metadata": {
        "id": "ltdPt2ZFHYXv",
        "outputId": "1a7ce491-0a9a-4a6f-f04b-7ee9c2f79966"
      },
      "outputs": [
        {
          "name": "stdout",
          "output_type": "stream",
          "text": [
            "             Make    Model  Electric Range\n",
            "47882       TESLA  MODEL S             337\n",
            "51283       TESLA  MODEL 3             322\n",
            "128004      TESLA  MODEL X             293\n",
            "69064       TESLA  MODEL Y             291\n",
            "139885  CHEVROLET  BOLT EV             259\n"
          ]
        }
      ],
      "source": [
        "unique_make_model = df2.sort_values(by='Electric Range', ascending=False) \\\n",
        "                      .drop_duplicates(subset=['Make', 'Model'])\n",
        "\n",
        "\n",
        "top_5_unique_make_model = unique_make_model.head(5)\n",
        "\n",
        "print(top_5_unique_make_model[['Make', 'Model', 'Electric Range']])\n"
      ]
    },
    {
      "cell_type": "code",
      "execution_count": null,
      "metadata": {
        "id": "jQnOPtDtHYXv"
      },
      "outputs": [],
      "source": [
        "#Creating a table for top_5_range_cars\n",
        "create_table_query2 = \"\"\"\n",
        "CREATE TABLE IF NOT EXISTS top_5_range (\n",
        "    ID SERIAL PRIMARY KEY,\n",
        "    Make VARCHAR(50),\n",
        "    Model VARCHAR(50),\n",
        "    ElectricRange INT\n",
        ")\n",
        "\"\"\"\n",
        "\n",
        "cursor.execute(create_table_query2)\n",
        "connection.commit()\n",
        "\n",
        "# Inserting Top 5 cars with the highest range\n",
        "insert_query_top_5_range = \"\"\"\n",
        "INSERT INTO top_5_range (Make, Model, ElectricRange)\n",
        "VALUES (%s, %s, %s)\n",
        "\"\"\"\n",
        "\n",
        "for _, row in top_5_unique_make_model.iterrows():\n",
        "    try:\n",
        "        cursor.execute(insert_query_top_5_range, (row['Make'], row['Model'], row['Electric Range']))\n",
        "    except Exception as e:\n",
        "        print(f\"Error inserting data for model {row['Model']}: {e}\")\n",
        "        connection.rollback()\n",
        "\n",
        "connection.commit()"
      ]
    },
    {
      "cell_type": "code",
      "execution_count": null,
      "metadata": {
        "id": "O-ao1DogHYYB",
        "outputId": "2738ed64-f033-4839-8024-db16c8001032"
      },
      "outputs": [
        {
          "name": "stdout",
          "output_type": "stream",
          "text": [
            "(1, 'TESLA', 'MODEL S', 337)\n",
            "(2, 'TESLA', 'MODEL 3', 322)\n",
            "(3, 'TESLA', 'MODEL X', 293)\n",
            "(4, 'TESLA', 'MODEL Y', 291)\n",
            "(5, 'CHEVROLET', 'BOLT EV', 259)\n"
          ]
        }
      ],
      "source": [
        "#Pulling from our databse\n",
        "cursor.execute(\"SELECT * FROM top_5_range LIMIT 5\")\n",
        "for row in cursor.fetchall():\n",
        "    print(row)"
      ]
    }
  ],
  "metadata": {
    "colab": {
      "provenance": [],
      "include_colab_link": true
    },
    "kernelspec": {
      "display_name": "Python 3",
      "language": "python",
      "name": "python3"
    },
    "language_info": {
      "codemirror_mode": {
        "name": "ipython",
        "version": 3
      },
      "file_extension": ".py",
      "mimetype": "text/x-python",
      "name": "python",
      "nbconvert_exporter": "python",
      "pygments_lexer": "ipython3",
      "version": "3.11.4"
    }
  },
  "nbformat": 4,
  "nbformat_minor": 0
}